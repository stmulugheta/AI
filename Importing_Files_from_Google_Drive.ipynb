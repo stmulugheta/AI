{
  "nbformat": 4,
  "nbformat_minor": 0,
  "metadata": {
    "colab": {
      "name": "Importing Files from Google Drive.ipynb",
      "provenance": [],
      "collapsed_sections": [],
      "toc_visible": true,
      "include_colab_link": true
    }
  },
  "cells": [
    {
      "cell_type": "markdown",
      "metadata": {
        "id": "view-in-github",
        "colab_type": "text"
      },
      "source": [
        "<a href=\"https://colab.research.google.com/github/stmulugheta/Data-Science-AI-Projects/blob/main/Importing_Files_from_Google_Drive.ipynb\" target=\"_parent\"><img src=\"https://colab.research.google.com/assets/colab-badge.svg\" alt=\"Open In Colab\"/></a>"
      ]
    },
    {
      "cell_type": "markdown",
      "metadata": {
        "id": "UQSAUfIQmBtD"
      },
      "source": [
        "# Importing Files from Google Drive"
      ]
    },
    {
      "cell_type": "code",
      "metadata": {
        "id": "ZcEbpIU_TCCe"
      },
      "source": [
        "!pip install PyDrive"
      ],
      "execution_count": null,
      "outputs": []
    },
    {
      "cell_type": "code",
      "metadata": {
        "id": "eznS2GyMTNx4"
      },
      "source": [
        "from pydrive.auth import GoogleAuth\n",
        "from pydrive.drive import GoogleDrive\n",
        "from google.colab import auth\n",
        "from oauth2client.client import GoogleCredentials"
      ],
      "execution_count": null,
      "outputs": []
    },
    {
      "cell_type": "code",
      "metadata": {
        "id": "uptvD-I8TEPH"
      },
      "source": [
        "# 1. Authenticate and create the PyDrive client.\n",
        "auth.authenticate_user()\n",
        "gauth = GoogleAuth()\n",
        "gauth.credentials = GoogleCredentials.get_application_default()\n",
        "drive = GoogleDrive(gauth)"
      ],
      "execution_count": null,
      "outputs": []
    },
    {
      "cell_type": "code",
      "metadata": {
        "id": "0XkGn8sVTL_e"
      },
      "source": [
        "#2. Get the file\n",
        "downloaded = drive.CreateFile({'id':\"your_file_id\"})   # replace the id with id of file you want to access\n",
        "downloaded.GetContentFile('your_file_name.csv')"
      ],
      "execution_count": null,
      "outputs": []
    },
    {
      "cell_type": "code",
      "metadata": {
        "id": "8xFJZLMWTmwJ"
      },
      "source": [
        "downloaded"
      ],
      "execution_count": null,
      "outputs": []
    },
    {
      "cell_type": "code",
      "metadata": {
        "id": "EyaCOSe2TqKG"
      },
      "source": [
        "#3. Read file as panda dataframe\n",
        "import pandas as pd\n",
        "data = pd.read_csv('your_file_name.csv') "
      ],
      "execution_count": null,
      "outputs": []
    },
    {
      "cell_type": "code",
      "metadata": {
        "id": "fpDSLFEbTr2r"
      },
      "source": [
        "data.head()"
      ],
      "execution_count": null,
      "outputs": []
    }
  ]
}