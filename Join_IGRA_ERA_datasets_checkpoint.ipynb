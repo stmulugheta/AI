{
  "cells": [
    {
      "cell_type": "markdown",
      "metadata": {
        "id": "view-in-github",
        "colab_type": "text"
      },
      "source": [
        "<a href=\"https://colab.research.google.com/github/stmulugheta/AI-Projects-2021/blob/main/Join_IGRA_ERA_datasets_checkpoint.ipynb\" target=\"_parent\"><img src=\"https://colab.research.google.com/assets/colab-badge.svg\" alt=\"Open In Colab\"/></a>"
      ]
    },
    {
      "cell_type": "code",
      "execution_count": null,
      "metadata": {
        "id": "sGvjrHE-N_xZ"
      },
      "outputs": [],
      "source": [
        "import os\n",
        "from pathlib import Path\n",
        "\n",
        "import pandas as pd"
      ],
      "id": "sGvjrHE-N_xZ"
    },
    {
      "cell_type": "markdown",
      "metadata": {
        "id": "vdAfDaPJN_xc"
      },
      "source": [
        "## Load the raw data from ApprovedDatasets folder"
      ],
      "id": "vdAfDaPJN_xc"
    },
    {
      "cell_type": "code",
      "execution_count": null,
      "metadata": {
        "id": "MPOLq6wSN_xd"
      },
      "outputs": [],
      "source": [
        "# get parent directory\n",
        "parent_dir = os.path.abspath(os.path.join(os.getcwd(), os.pardir))\n",
        "\n",
        "#get data directory\n",
        "ERA_path = os.path.join(parent_dir, \"ApprovedDatasets\", \"ERA5_InitialRaw\", \"ERA5_InitialRaw_iokolab_EspoirGaglo.csv\")\n",
        "IGRA_path = os.path.join(parent_dir, \"ApprovedDatasets\", \"IGRA_InitialRaw\", \"IGRA2_InitialRaw_RikDutta.csv\")"
      ],
      "id": "MPOLq6wSN_xd"
    },
    {
      "cell_type": "code",
      "execution_count": null,
      "metadata": {
        "id": "1aFjuok-N_xd"
      },
      "outputs": [],
      "source": [
        "ERA_df = pd.read_csv(ERA_path, index_col=0)\n",
        "IGRA_df = pd.read_csv(IGRA_path)"
      ],
      "id": "1aFjuok-N_xd"
    },
    {
      "cell_type": "markdown",
      "metadata": {
        "id": "Kwau6ESLN_xe"
      },
      "source": [
        "## Check if the dataframes seem correct"
      ],
      "id": "Kwau6ESLN_xe"
    },
    {
      "cell_type": "code",
      "execution_count": null,
      "metadata": {
        "id": "bPLWJ4DAN_xe",
        "outputId": "3281872c-9d13-4839-d129-c8dbf00ab3c3"
      },
      "outputs": [
        {
          "data": {
            "text/html": [
              "<div>\n",
              "<style scoped>\n",
              "    .dataframe tbody tr th:only-of-type {\n",
              "        vertical-align: middle;\n",
              "    }\n",
              "\n",
              "    .dataframe tbody tr th {\n",
              "        vertical-align: top;\n",
              "    }\n",
              "\n",
              "    .dataframe thead th {\n",
              "        text-align: right;\n",
              "    }\n",
              "</style>\n",
              "<table border=\"1\" class=\"dataframe\">\n",
              "  <thead>\n",
              "    <tr style=\"text-align: right;\">\n",
              "      <th></th>\n",
              "      <th>coordinates (lat,lon)</th>\n",
              "      <th>model (name)</th>\n",
              "      <th>model elevation (surface)</th>\n",
              "      <th>utc_offset (hrs)</th>\n",
              "      <th>temperature (degC)</th>\n",
              "      <th>wind_speed (m/s)</th>\n",
              "      <th>relative_humidity (0-1)</th>\n",
              "      <th>surface_solar_radiation (W/m^2)</th>\n",
              "      <th>dewpoint_temperature (degC)</th>\n",
              "      <th>total_precipitation (mm of water equivalent)</th>\n",
              "    </tr>\n",
              "  </thead>\n",
              "  <tbody>\n",
              "    <tr>\n",
              "      <th>2008-01-01 00:00:00</th>\n",
              "      <td>(4.05, 9.7)</td>\n",
              "      <td>era5</td>\n",
              "      <td>35.73</td>\n",
              "      <td>1.0</td>\n",
              "      <td>25.26</td>\n",
              "      <td>0.92</td>\n",
              "      <td>0.94</td>\n",
              "      <td>0.0</td>\n",
              "      <td>24.27</td>\n",
              "      <td>0.11</td>\n",
              "    </tr>\n",
              "    <tr>\n",
              "      <th>2008-01-01 01:00:00</th>\n",
              "      <td>(4.05, 9.7)</td>\n",
              "      <td>era5</td>\n",
              "      <td>35.73</td>\n",
              "      <td>1.0</td>\n",
              "      <td>25.03</td>\n",
              "      <td>0.67</td>\n",
              "      <td>0.95</td>\n",
              "      <td>0.0</td>\n",
              "      <td>24.16</td>\n",
              "      <td>0.07</td>\n",
              "    </tr>\n",
              "    <tr>\n",
              "      <th>2008-01-01 02:00:00</th>\n",
              "      <td>(4.05, 9.7)</td>\n",
              "      <td>era5</td>\n",
              "      <td>35.73</td>\n",
              "      <td>1.0</td>\n",
              "      <td>24.62</td>\n",
              "      <td>0.13</td>\n",
              "      <td>0.95</td>\n",
              "      <td>0.0</td>\n",
              "      <td>23.76</td>\n",
              "      <td>0.39</td>\n",
              "    </tr>\n",
              "    <tr>\n",
              "      <th>2008-01-01 03:00:00</th>\n",
              "      <td>(4.05, 9.7)</td>\n",
              "      <td>era5</td>\n",
              "      <td>35.73</td>\n",
              "      <td>1.0</td>\n",
              "      <td>24.59</td>\n",
              "      <td>0.52</td>\n",
              "      <td>0.96</td>\n",
              "      <td>0.0</td>\n",
              "      <td>23.87</td>\n",
              "      <td>0.05</td>\n",
              "    </tr>\n",
              "    <tr>\n",
              "      <th>2008-01-01 04:00:00</th>\n",
              "      <td>(4.05, 9.7)</td>\n",
              "      <td>era5</td>\n",
              "      <td>35.73</td>\n",
              "      <td>1.0</td>\n",
              "      <td>24.61</td>\n",
              "      <td>0.60</td>\n",
              "      <td>0.96</td>\n",
              "      <td>0.0</td>\n",
              "      <td>23.89</td>\n",
              "      <td>0.20</td>\n",
              "    </tr>\n",
              "  </tbody>\n",
              "</table>\n",
              "</div>"
            ],
            "text/plain": [
              "                    coordinates (lat,lon) model (name)  \\\n",
              "2008-01-01 00:00:00           (4.05, 9.7)         era5   \n",
              "2008-01-01 01:00:00           (4.05, 9.7)         era5   \n",
              "2008-01-01 02:00:00           (4.05, 9.7)         era5   \n",
              "2008-01-01 03:00:00           (4.05, 9.7)         era5   \n",
              "2008-01-01 04:00:00           (4.05, 9.7)         era5   \n",
              "\n",
              "                     model elevation (surface)  utc_offset (hrs)  \\\n",
              "2008-01-01 00:00:00                      35.73               1.0   \n",
              "2008-01-01 01:00:00                      35.73               1.0   \n",
              "2008-01-01 02:00:00                      35.73               1.0   \n",
              "2008-01-01 03:00:00                      35.73               1.0   \n",
              "2008-01-01 04:00:00                      35.73               1.0   \n",
              "\n",
              "                     temperature (degC)  wind_speed (m/s)  \\\n",
              "2008-01-01 00:00:00               25.26              0.92   \n",
              "2008-01-01 01:00:00               25.03              0.67   \n",
              "2008-01-01 02:00:00               24.62              0.13   \n",
              "2008-01-01 03:00:00               24.59              0.52   \n",
              "2008-01-01 04:00:00               24.61              0.60   \n",
              "\n",
              "                     relative_humidity (0-1)  surface_solar_radiation (W/m^2)  \\\n",
              "2008-01-01 00:00:00                     0.94                              0.0   \n",
              "2008-01-01 01:00:00                     0.95                              0.0   \n",
              "2008-01-01 02:00:00                     0.95                              0.0   \n",
              "2008-01-01 03:00:00                     0.96                              0.0   \n",
              "2008-01-01 04:00:00                     0.96                              0.0   \n",
              "\n",
              "                     dewpoint_temperature (degC)  \\\n",
              "2008-01-01 00:00:00                        24.27   \n",
              "2008-01-01 01:00:00                        24.16   \n",
              "2008-01-01 02:00:00                        23.76   \n",
              "2008-01-01 03:00:00                        23.87   \n",
              "2008-01-01 04:00:00                        23.89   \n",
              "\n",
              "                     total_precipitation (mm of water equivalent)  \n",
              "2008-01-01 00:00:00                                          0.11  \n",
              "2008-01-01 01:00:00                                          0.07  \n",
              "2008-01-01 02:00:00                                          0.39  \n",
              "2008-01-01 03:00:00                                          0.05  \n",
              "2008-01-01 04:00:00                                          0.20  "
            ]
          },
          "execution_count": 82,
          "metadata": {},
          "output_type": "execute_result"
        }
      ],
      "source": [
        "ERA_df.head()"
      ],
      "id": "bPLWJ4DAN_xe"
    },
    {
      "cell_type": "code",
      "execution_count": null,
      "metadata": {
        "id": "x09eOuD9N_xf",
        "outputId": "e2c0019c-cb8e-4006-b4a2-efc87e8a35a4"
      },
      "outputs": [
        {
          "data": {
            "text/html": [
              "<div>\n",
              "<style scoped>\n",
              "    .dataframe tbody tr th:only-of-type {\n",
              "        vertical-align: middle;\n",
              "    }\n",
              "\n",
              "    .dataframe tbody tr th {\n",
              "        vertical-align: top;\n",
              "    }\n",
              "\n",
              "    .dataframe thead th {\n",
              "        text-align: right;\n",
              "    }\n",
              "</style>\n",
              "<table border=\"1\" class=\"dataframe\">\n",
              "  <thead>\n",
              "    <tr style=\"text-align: right;\">\n",
              "      <th></th>\n",
              "      <th>year</th>\n",
              "      <th>month</th>\n",
              "      <th>day</th>\n",
              "      <th>hour</th>\n",
              "      <th>l1</th>\n",
              "      <th>l2</th>\n",
              "      <th>etime</th>\n",
              "      <th>pressure</th>\n",
              "      <th>pressureFlag</th>\n",
              "      <th>geopotentialHeight</th>\n",
              "      <th>zflag</th>\n",
              "      <th>temperature</th>\n",
              "      <th>temperatureProcessingFlag</th>\n",
              "      <th>relativeHumidity</th>\n",
              "      <th>dewpointDepression</th>\n",
              "      <th>windDirection</th>\n",
              "      <th>windSpeed</th>\n",
              "    </tr>\n",
              "  </thead>\n",
              "  <tbody>\n",
              "    <tr>\n",
              "      <th>0</th>\n",
              "      <td>2008</td>\n",
              "      <td>1</td>\n",
              "      <td>1</td>\n",
              "      <td>0</td>\n",
              "      <td>2</td>\n",
              "      <td>1</td>\n",
              "      <td>NaN</td>\n",
              "      <td>101000.0</td>\n",
              "      <td>B</td>\n",
              "      <td>NaN</td>\n",
              "      <td></td>\n",
              "      <td>26.0</td>\n",
              "      <td>B</td>\n",
              "      <td>94.796229</td>\n",
              "      <td>0.9</td>\n",
              "      <td>0.0</td>\n",
              "      <td>0.0</td>\n",
              "    </tr>\n",
              "    <tr>\n",
              "      <th>1</th>\n",
              "      <td>2008</td>\n",
              "      <td>1</td>\n",
              "      <td>1</td>\n",
              "      <td>0</td>\n",
              "      <td>1</td>\n",
              "      <td>0</td>\n",
              "      <td>NaN</td>\n",
              "      <td>100000.0</td>\n",
              "      <td></td>\n",
              "      <td>89.0</td>\n",
              "      <td>B</td>\n",
              "      <td>26.4</td>\n",
              "      <td>B</td>\n",
              "      <td>95.943519</td>\n",
              "      <td>0.7</td>\n",
              "      <td>145.0</td>\n",
              "      <td>26.0</td>\n",
              "    </tr>\n",
              "    <tr>\n",
              "      <th>2</th>\n",
              "      <td>2008</td>\n",
              "      <td>1</td>\n",
              "      <td>1</td>\n",
              "      <td>0</td>\n",
              "      <td>2</td>\n",
              "      <td>0</td>\n",
              "      <td>NaN</td>\n",
              "      <td>99600.0</td>\n",
              "      <td></td>\n",
              "      <td>NaN</td>\n",
              "      <td></td>\n",
              "      <td>26.8</td>\n",
              "      <td>B</td>\n",
              "      <td>94.826278</td>\n",
              "      <td>0.9</td>\n",
              "      <td>NaN</td>\n",
              "      <td>NaN</td>\n",
              "    </tr>\n",
              "    <tr>\n",
              "      <th>3</th>\n",
              "      <td>2008</td>\n",
              "      <td>1</td>\n",
              "      <td>1</td>\n",
              "      <td>0</td>\n",
              "      <td>2</td>\n",
              "      <td>0</td>\n",
              "      <td>NaN</td>\n",
              "      <td>95100.0</td>\n",
              "      <td></td>\n",
              "      <td>NaN</td>\n",
              "      <td></td>\n",
              "      <td>NaN</td>\n",
              "      <td></td>\n",
              "      <td>NaN</td>\n",
              "      <td>NaN</td>\n",
              "      <td>215.0</td>\n",
              "      <td>51.0</td>\n",
              "    </tr>\n",
              "    <tr>\n",
              "      <th>4</th>\n",
              "      <td>2008</td>\n",
              "      <td>1</td>\n",
              "      <td>1</td>\n",
              "      <td>0</td>\n",
              "      <td>2</td>\n",
              "      <td>0</td>\n",
              "      <td>NaN</td>\n",
              "      <td>93900.0</td>\n",
              "      <td></td>\n",
              "      <td>NaN</td>\n",
              "      <td></td>\n",
              "      <td>23.2</td>\n",
              "      <td>B</td>\n",
              "      <td>100.000000</td>\n",
              "      <td>0.0</td>\n",
              "      <td>NaN</td>\n",
              "      <td>NaN</td>\n",
              "    </tr>\n",
              "  </tbody>\n",
              "</table>\n",
              "</div>"
            ],
            "text/plain": [
              "   year  month  day  hour  l1  l2  etime  pressure pressureFlag  \\\n",
              "0  2008      1    1     0   2   1    NaN  101000.0            B   \n",
              "1  2008      1    1     0   1   0    NaN  100000.0                \n",
              "2  2008      1    1     0   2   0    NaN   99600.0                \n",
              "3  2008      1    1     0   2   0    NaN   95100.0                \n",
              "4  2008      1    1     0   2   0    NaN   93900.0                \n",
              "\n",
              "   geopotentialHeight zflag  temperature temperatureProcessingFlag  \\\n",
              "0                 NaN               26.0                         B   \n",
              "1                89.0     B         26.4                         B   \n",
              "2                 NaN               26.8                         B   \n",
              "3                 NaN                NaN                             \n",
              "4                 NaN               23.2                         B   \n",
              "\n",
              "   relativeHumidity  dewpointDepression  windDirection  windSpeed  \n",
              "0         94.796229                 0.9            0.0        0.0  \n",
              "1         95.943519                 0.7          145.0       26.0  \n",
              "2         94.826278                 0.9            NaN        NaN  \n",
              "3               NaN                 NaN          215.0       51.0  \n",
              "4        100.000000                 0.0            NaN        NaN  "
            ]
          },
          "execution_count": 83,
          "metadata": {},
          "output_type": "execute_result"
        }
      ],
      "source": [
        "IGRA_df.head()"
      ],
      "id": "x09eOuD9N_xf"
    },
    {
      "cell_type": "markdown",
      "metadata": {
        "id": "UuRtm_xeN_xf"
      },
      "source": [
        "## Let's create a column with date and time for IGRA"
      ],
      "id": "UuRtm_xeN_xf"
    },
    {
      "cell_type": "code",
      "execution_count": null,
      "metadata": {
        "id": "M1vUKrMwN_xg",
        "outputId": "0f40cfbe-2c67-4914-9c6c-0a141786899a"
      },
      "outputs": [
        {
          "data": {
            "text/plain": [
              "12    154551\n",
              "0     137544\n",
              "18      5673\n",
              "6       3503\n",
              "15       323\n",
              "23       263\n",
              "11       139\n",
              "Name: hour, dtype: int64"
            ]
          },
          "execution_count": 84,
          "metadata": {},
          "output_type": "execute_result"
        }
      ],
      "source": [
        "IGRA_df[\"hour\"].value_counts()"
      ],
      "id": "M1vUKrMwN_xg"
    },
    {
      "cell_type": "code",
      "execution_count": null,
      "metadata": {
        "id": "CCDuLfzzN_xg"
      },
      "outputs": [],
      "source": [
        "#We should probably consider the launch at 12\n",
        "IGRA_df = IGRA_df[IGRA_df[\"hour\"] == 12]"
      ],
      "id": "CCDuLfzzN_xg"
    },
    {
      "cell_type": "code",
      "execution_count": null,
      "metadata": {
        "id": "AoXkqpWuN_xg"
      },
      "outputs": [],
      "source": [
        "#creation of datetime column\n",
        "IGRA_df[\"date\"] = pd.to_datetime(IGRA_df[[\"year\", \"month\", \"day\", \"hour\"]])\n",
        "IGRA_df = IGRA_df.drop(columns = [\"year\", \"month\", \"day\", \"hour\"])"
      ],
      "id": "AoXkqpWuN_xg"
    },
    {
      "cell_type": "markdown",
      "metadata": {
        "id": "LC8atqtPN_xh"
      },
      "source": [
        "## We need to join these two dataframes based on the date\n",
        "\n",
        "Assumptions for joining the two datasets\n",
        "- We just need to consider the rainfall for the 12 hours after each launch (https://omdena-kanda.slack.com/archives/C02DFRDENCA/p1632749219074400)\n",
        "- Any amount of rain during the 12 hours count as a rain event (https://omdena-kanda.slack.com/archives/C02DFRDENCA/p1632854037087300?thread_ts=1632684194.062400&cid=C02DFRDENCA)\n",
        "- We only need to consider year 2008 to 2020 (https://omdena-kanda.slack.com/archives/C02DFRDENCA/p1632437804014500)\n",
        "- We can drop rows with pressure values outside 1020 - 200 hpa range (https://omdena-kanda.slack.com/archives/C02F2D1NWRM/p1632572875057700)"
      ],
      "id": "LC8atqtPN_xh"
    },
    {
      "cell_type": "code",
      "execution_count": null,
      "metadata": {
        "id": "wMMF6EtiN_xh"
      },
      "outputs": [],
      "source": [
        "#remove rows in ERA between 00:00 and 12:00\n",
        "ERA_df[\"date\"] = ERA_df.index.to_list()\n",
        "ERA_df[\"date\"] = pd.to_datetime(ERA_df[\"date\"])\n",
        "ERA_df = ERA_df[ERA_df[\"date\"].dt.hour >= 12]"
      ],
      "id": "wMMF6EtiN_xh"
    },
    {
      "cell_type": "code",
      "execution_count": null,
      "metadata": {
        "id": "7sxOuWjQN_xh"
      },
      "outputs": [],
      "source": [
        "#convert the datetime to date\n",
        "ERA_df['date'] = pd.to_datetime(ERA_df['date']).dt.date\n",
        "#group the days to gether and add the rain values\n",
        "ERA_df = pd.DataFrame(ERA_df.groupby(['date']).agg({'total_precipitation (mm of water equivalent)':'sum'}))\n"
      ],
      "id": "7sxOuWjQN_xh"
    },
    {
      "cell_type": "code",
      "execution_count": null,
      "metadata": {
        "id": "YJRJTwDPN_xh",
        "outputId": "f75d2db6-2e3c-4fc3-e2c4-47fe81c4e348"
      },
      "outputs": [
        {
          "name": "stdout",
          "output_type": "stream",
          "text": [
            "Ratio of no rain day 0.0035804549283909013\n",
            "Ratio of very low rain day 0.06023588879528222\n",
            "Ratio of low rain day 0.11310025273799494\n"
          ]
        }
      ],
      "source": [
        "no_precipitation = len(ERA_df[ERA_df[\"total_precipitation (mm of water equivalent)\"] == 0])/len(ERA_df)\n",
        "very_low_precipitation = len(ERA_df[ERA_df[\"total_precipitation (mm of water equivalent)\"] <= 0.5])/len(ERA_df)\n",
        "low_precipitation = len(ERA_df[ERA_df[\"total_precipitation (mm of water equivalent)\"] <= 1])/len(ERA_df)\n",
        "\n",
        "print(\"Ratio of no rain day\", no_precipitation)\n",
        "print(\"Ratio of very low rain day\", very_low_precipitation)\n",
        "print(\"Ratio of low rain day\", low_precipitation)"
      ],
      "id": "YJRJTwDPN_xh"
    },
    {
      "cell_type": "markdown",
      "metadata": {
        "id": "vsncwfjMN_xi"
      },
      "source": [
        "If we consider that a day without rain is equal to 0 mm of precipitation during the 12 hours then we will only have 0.35% of non rainy day in the data set which seems too low.  \n",
        "\n",
        "According to https://www.climatestotravel.com/climate/cameroon#douala there is 215 day of rain in a year in Douala Cameroon.  \n",
        "We probably need to increas the threshold to decide rain/no-rain days\n"
      ],
      "id": "vsncwfjMN_xi"
    },
    {
      "cell_type": "code",
      "execution_count": null,
      "metadata": {
        "id": "HIM8NqrTN_xi"
      },
      "outputs": [],
      "source": [
        "#converting pressure to hpa\n",
        "IGRA_df[\"pressure\"] = IGRA_df[\"pressure\"]/100\n",
        "#removing rows with pressure outside of range 200 - 1020 hpa\n",
        "IGRA_df = IGRA_df[IGRA_df[\"pressure\"] >= 200]\n",
        "IGRA_df = IGRA_df[IGRA_df[\"pressure\"] <= 1020]"
      ],
      "id": "HIM8NqrTN_xi"
    },
    {
      "cell_type": "code",
      "execution_count": null,
      "metadata": {
        "id": "o9KmuLhEN_xi"
      },
      "outputs": [],
      "source": [
        ""
      ],
      "id": "o9KmuLhEN_xi"
    },
    {
      "cell_type": "code",
      "execution_count": null,
      "metadata": {
        "id": "ab8J53OON_xi"
      },
      "outputs": [],
      "source": [
        ""
      ],
      "id": "ab8J53OON_xi"
    },
    {
      "cell_type": "code",
      "execution_count": null,
      "metadata": {
        "id": "wEIYAeq5N_xi",
        "outputId": "50d83d04-3ac8-4ea5-86ce-05447f5e7d45"
      },
      "outputs": [
        {
          "name": "stdout",
          "output_type": "stream",
          "text": [
            "ERA timespan : 2008-01-01 00:00:00 to 2020-12-31 00:00:00\n",
            "IGRA timespan : 2008-01-01 12:00:00 to 2020-12-14 12:00:00\n"
          ]
        }
      ],
      "source": [
        "print(\"ERA timespan :\", ERA_df.index.min(), \"to\", ERA_df.index.max())\n",
        "print(\"IGRA timespan :\", IGRA_df[\"date\"].min(), \"to\", IGRA_df[\"date\"].max())"
      ],
      "id": "wEIYAeq5N_xi"
    },
    {
      "cell_type": "code",
      "execution_count": null,
      "metadata": {
        "id": "LA4WiCZLN_xj"
      },
      "outputs": [],
      "source": [
        ""
      ],
      "id": "LA4WiCZLN_xj"
    }
  ],
  "metadata": {
    "kernelspec": {
      "display_name": "Python 3",
      "language": "python",
      "name": "python3"
    },
    "language_info": {
      "codemirror_mode": {
        "name": "ipython",
        "version": 3
      },
      "file_extension": ".py",
      "mimetype": "text/x-python",
      "name": "python",
      "nbconvert_exporter": "python",
      "pygments_lexer": "ipython3",
      "version": "3.6.9"
    },
    "toc": {
      "base_numbering": 1,
      "nav_menu": {},
      "number_sections": true,
      "sideBar": true,
      "skip_h1_title": false,
      "title_cell": "Table of Contents",
      "title_sidebar": "Contents",
      "toc_cell": false,
      "toc_position": {},
      "toc_section_display": true,
      "toc_window_display": false
    },
    "colab": {
      "name": "Join_IGRA_ERA_datasets-checkpoint.ipynb",
      "provenance": [],
      "include_colab_link": true
    }
  },
  "nbformat": 4,
  "nbformat_minor": 5
}