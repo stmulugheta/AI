{
  "nbformat": 4,
  "nbformat_minor": 0,
  "metadata": {
    "colab": {
      "name": "Data_Science_portfolio.ipynb",
      "private_outputs": true,
      "provenance": [],
      "collapsed_sections": [],
      "toc_visible": true,
      "authorship_tag": "ABX9TyNopsThkRpyTSFv2/wsTtns",
      "include_colab_link": true
    },
    "kernelspec": {
      "name": "python3",
      "display_name": "Python 3"
    },
    "language_info": {
      "name": "python"
    },
    "accelerator": "GPU"
  },
  "cells": [
    {
      "cell_type": "markdown",
      "metadata": {
        "id": "view-in-github",
        "colab_type": "text"
      },
      "source": [
        "<a href=\"https://colab.research.google.com/github/stmulugheta/AI-Projects-2021/blob/main/Data_Science_portfolio.ipynb\" target=\"_parent\"><img src=\"https://colab.research.google.com/assets/colab-badge.svg\" alt=\"Open In Colab\"/></a>"
      ]
    },
    {
      "cell_type": "markdown",
      "metadata": {
        "id": "vny37GYA6CyP"
      },
      "source": [
        "# Data Science Portfolio"
      ]
    },
    {
      "cell_type": "markdown",
      "metadata": {
        "id": "JFmL-q1G6k7o"
      },
      "source": [
        "# A lot of us, data fans, are trying to launch data [science careers](https://), and we do not initially have work experience. In fact, we are looking for a first data science role so we can check off the work experience requirement that is listed in most data science job postings. To get unstuck from this catch-22, we need to complete projects and build a data science portfolio."
      ]
    },
    {
      "cell_type": "markdown",
      "metadata": {
        "id": "catyBgJl7WMm"
      },
      "source": [
        "# Talking to Data Scientists"
      ]
    }
  ]
}